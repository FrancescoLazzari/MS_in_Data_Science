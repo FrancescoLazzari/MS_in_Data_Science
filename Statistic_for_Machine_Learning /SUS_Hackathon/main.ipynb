{
 "cells": [
  {
   "cell_type": "markdown",
   "metadata": {},
   "source": [
    "----\n",
    "\n",
    "# <h1 style=\"text-align: center;\">Statistic Under the Stars 2024 - Group SoloLacrime</h2>\n",
    "\n",
    "----"
   ]
  },
  {
   "cell_type": "markdown",
   "metadata": {},
   "source": [
    "| STUDENT | ID |\n",
    "| :-: | :-: |\n",
    "| Camilla Brigandi | 2055650 |\n",
    "| Francesco Lazzari | 1917922 |  \n",
    "| Riccardo Violano | 2148833 | \n",
    "| Matteo Pazzini | 1868953 |"
   ]
  },
  {
   "cell_type": "code",
   "execution_count": 1,
   "metadata": {},
   "outputs": [
    {
     "name": "stderr",
     "output_type": "stream",
     "text": [
      "/Users/francescolazzari/anaconda3/envs/Uni/lib/python3.9/site-packages/dask/dataframe/_pyarrow_compat.py:23: UserWarning: You are using pyarrow version 11.0.0 which is known to be insecure. See https://www.cve.org/CVERecord?id=CVE-2023-47248 for further details. Please upgrade to pyarrow>=14.0.1 or install pyarrow-hotfix to patch your current version.\n",
      "  warnings.warn(\n"
     ]
    }
   ],
   "source": [
    "import pandas as pd\n",
    "from geopy import distance\n",
    "import numpy as np\n",
    "from geopy.geocoders import Nominatim\n",
    "geolocator = Nominatim(user_agent=\"Geopy_lib\",timeout=10)\n",
    "import lightgbm as lgb\n",
    "from sklearn.model_selection import train_test_split\n",
    "from sklearn.metrics import accuracy_score\n",
    "import seaborn as sns\n",
    "import matplotlib.pyplot as plt\n",
    "from sklearn.metrics import confusion_matrix"
   ]
  },
  {
   "cell_type": "code",
   "execution_count": 2,
   "metadata": {},
   "outputs": [],
   "source": [
    "# Import Datasets \n",
    "candidates_train = pd.read_csv('/Users/francescolazzari/Documents/Università - Data Science/SL/Homework/SUS/Data/candidates_train.csv')\n",
    "candidates_test = pd.read_csv('/Users/francescolazzari/Documents/Università - Data Science/SL/Homework/SUS/Data/candidates_test.csv')\n",
    "job_positions_train = pd.read_csv('/Users/francescolazzari/Documents/Università - Data Science/SL/Homework/SUS/Data/job_positions_train.csv')\n",
    "job_positions_test = pd.read_csv('/Users/francescolazzari/Documents/Università - Data Science/SL/Homework/SUS/Data/job_positions_test.csv')\n",
    "matches_train = pd.read_csv('/Users/francescolazzari/Documents/Università - Data Science/SL/Homework/SUS/Data/matches_train.csv')\n",
    "matches_test = pd.read_csv('/Users/francescolazzari/Documents/Università - Data Science/SL/Homework/SUS/Data/matches_test.csv')"
   ]
  },
  {
   "cell_type": "markdown",
   "metadata": {},
   "source": [
    "----\n",
    "\n",
    "## <h2 style=\"text-align: center;\">Preprocessing</h2>\n",
    "\n",
    "----"
   ]
  },
  {
   "cell_type": "markdown",
   "metadata": {},
   "source": [
    "Preprocessing on the `Train` Dataset."
   ]
  },
  {
   "cell_type": "code",
   "execution_count": 3,
   "metadata": {},
   "outputs": [],
   "source": [
    "# We need to fix the format of some features, in particular we want a list\n",
    "\n",
    "def converti_in_lista(stringa):\n",
    "    if pd.isna(stringa):\n",
    "        return stringa\n",
    "    return [elem.lower() for elem in stringa.split(';')]\n",
    "\n",
    "#We apply the function to the features\n",
    "candidates_train['Prof_cat_exp'] = candidates_train['Prof_cat_exp'].apply(converti_in_lista)\n",
    "candidates_train['Prof_cat_int'] = candidates_train['Prof_cat_int'].apply(converti_in_lista)\n",
    "candidates_train['Hard_skills_group'] = candidates_train['Hard_skills_group'].apply(converti_in_lista)\n",
    "candidates_train['Soft_skills'] = candidates_train['Soft_skills'].apply(converti_in_lista)\n",
    "candidates_train['Cards'] = candidates_train['Cards'].apply(converti_in_lista)\n",
    "candidates_train['Education'] = candidates_train['Education'].apply(converti_in_lista)\n",
    "candidates_train['Languages'] = candidates_train['Languages'].apply(converti_in_lista)"
   ]
  },
  {
   "cell_type": "code",
   "execution_count": 4,
   "metadata": {},
   "outputs": [],
   "source": [
    "#Same thing for the other Dataset\n",
    "\n",
    "job_positions_train['Prof_cat'] = job_positions_train['Prof_cat'].apply(converti_in_lista)\n",
    "job_positions_train['Hard_skills_group'] = job_positions_train['Hard_skills_group'].apply(converti_in_lista)\n",
    "job_positions_train['Soft_skills'] = job_positions_train['Soft_skills'].apply(converti_in_lista)\n",
    "job_positions_train['Education'] = job_positions_train['Education'].apply(converti_in_lista)\n",
    "job_positions_train['Languages'] = job_positions_train['Languages'].apply(converti_in_lista)\n",
    "job_positions_train['Cards'] = job_positions_train['Cards'].apply(converti_in_lista)\n"
   ]
  },
  {
   "cell_type": "code",
   "execution_count": 5,
   "metadata": {},
   "outputs": [],
   "source": [
    "# We saw that there were repetition for the gender, to simplify the evaluation we choosed to keep only, also because all the jobs are genderless\n",
    "\n",
    "def remove_after_slash(s):\n",
    "    return s.split('/')[0]\n",
    "\n",
    "#if there will be NaN we will keep the NaN\n",
    "def process_list(lst):\n",
    "    if isinstance(lst, list):\n",
    "        return [remove_after_slash(item) for item in lst]\n",
    "    return lst  \n",
    "\n",
    "candidates_train['Prof_cat_int'] = candidates_train['Prof_cat_int'].apply(process_list)\n",
    "candidates_train['Prof_cat_exp'] = candidates_train['Prof_cat_exp'].apply(process_list)"
   ]
  },
  {
   "cell_type": "code",
   "execution_count": 6,
   "metadata": {},
   "outputs": [
    {
     "name": "stderr",
     "output_type": "stream",
     "text": [
      "/var/folders/kb/y2wpyfkn7rj91tcfycy6yhlm0000gn/T/ipykernel_8618/3293493348.py:6: SettingWithCopyWarning: \n",
      "A value is trying to be set on a copy of a slice from a DataFrame.\n",
      "Try using .loc[row_indexer,col_indexer] = value instead\n",
      "\n",
      "See the caveats in the documentation: https://pandas.pydata.org/pandas-docs/stable/user_guide/indexing.html#returning-a-view-versus-a-copy\n",
      "  selected_rows[\"Latitudine\"] = selected_rows[\"Domicile_City\"].apply(lambda x: geolocator.geocode(x).latitude)\n",
      "/var/folders/kb/y2wpyfkn7rj91tcfycy6yhlm0000gn/T/ipykernel_8618/3293493348.py:7: SettingWithCopyWarning: \n",
      "A value is trying to be set on a copy of a slice from a DataFrame.\n",
      "Try using .loc[row_indexer,col_indexer] = value instead\n",
      "\n",
      "See the caveats in the documentation: https://pandas.pydata.org/pandas-docs/stable/user_guide/indexing.html#returning-a-view-versus-a-copy\n",
      "  selected_rows[\"Longitudine\"] = selected_rows[\"Domicile_City\"].apply(lambda x: geolocator.geocode(x).longitude)\n"
     ]
    }
   ],
   "source": [
    "# select rows where either 'Latitudine' or 'Longitudine' column has NaN values\n",
    "# We wanted to full use the information about the distance so we updated the coordinates of the city weren't present\n",
    "selected_rows = candidates_train[candidates_train['Latitudine'].isna() | candidates_train['Longitudine'].isna()]\n",
    "\n",
    "# apply the geocode function\n",
    "selected_rows[\"Latitudine\"] = selected_rows[\"Domicile_City\"].apply(lambda x: geolocator.geocode(x).latitude)\n",
    "selected_rows[\"Longitudine\"] = selected_rows[\"Domicile_City\"].apply(lambda x: geolocator.geocode(x).longitude)\n",
    "\n",
    "# update the cabdidates train dataset\n",
    "candidates_train.update(selected_rows)"
   ]
  },
  {
   "cell_type": "code",
   "execution_count": 7,
   "metadata": {},
   "outputs": [],
   "source": [
    "# We merged all the datasets to evaluate better the problem \n",
    "\n",
    "temporary_df = matches_train.merge(job_positions_train, on='Job_ID', how='left')\n",
    "final_df=temporary_df.merge(candidates_train, on='CANDIDATE_ID',how='left')\n",
    "final_df=final_df.drop(['Education_x','Education_y'],axis=1)"
   ]
  },
  {
   "cell_type": "code",
   "execution_count": 8,
   "metadata": {},
   "outputs": [],
   "source": [
    "# We choosed to create new features that will consider the correlation between the candidates and the Job_list\n",
    "\n",
    "def check_languages(x): # BOOLEAN\n",
    "    if x['Languages_x'] == 0:\n",
    "        return 1  # If the requisites are NaN we will say that they will be respected\n",
    "    # We check if we have all the languages that are requested for the job\n",
    "    if isinstance(x['Languages_x'], list) and isinstance(x['Languages_y'], list):\n",
    "        if all(lang in x['Languages_y'] for lang in x['Languages_x']):\n",
    "            return 1  \n",
    "    \n",
    "    return 0  \n",
    "\n",
    "def check_cards(x): # BOOLEAN\n",
    "    if x['Cards_x'] == 0:\n",
    "        return 1 # If the requisites are NaN we will say that they will be respected\n",
    "    # We check if we have all the cards that are requested for the job\n",
    "    if isinstance(x['Cards_x'], list) and isinstance(x['Cards_y'], list):\n",
    "        if all(lang in x['Cards_y'] for lang in x['Cards_x']):\n",
    "            return 1  \n",
    "    \n",
    "    return 0  \n",
    "\n",
    "\n",
    "# We created a feature for the distance from the Job\n",
    "def calculate_distance(row):\n",
    "    try:\n",
    "        if np.isnan(row['Latitudine_x']) or np.isnan(row['Longitudine_x']) or np.isnan(row['Latitudine_y']) or np.isnan(row['Longitudine_y']):\n",
    "            return np.nan\n",
    "        else:\n",
    "            return distance.distance((row['Latitudine_x'], row['Longitudine_x']), (row['Latitudine_y'], row['Longitudine_y'])).kilometers\n",
    "    except:\n",
    "        return np.nan\n",
    "    \n",
    "def check_experience(x):# BOOLEAN\n",
    "    # We check if the Candidate has already worked in the sector\n",
    "    if isinstance(x['Prof_cat'], list) and isinstance(x['Prof_cat_exp'], list):\n",
    "        if all(lang in x['Prof_cat_exp'] for lang in x['Prof_cat']):\n",
    "            return 1  \n",
    "    \n",
    "    return 0  \n",
    "\n",
    "def check_intent(x):# BOOLEAN\n",
    "        # We check if the Candidate wants to work in the sector\n",
    "\n",
    "    if isinstance(x['Prof_cat'], list) and isinstance(x['Prof_cat_int'], list):\n",
    "        if all(lang in x['Prof_cat_int'] for lang in x['Prof_cat']):\n",
    "            return 1 \n",
    "    \n",
    "    return 0  \n",
    "\n",
    "\n",
    "# To Evaluate the compatility with the job we calculate how many skills requested in the job are present in the skills of the candidate\n",
    "def count_common_elements(row):\n",
    "    if isinstance(row['Hard_skills_group_y'], list) and isinstance(row['Hard_skills_group_x'], list):\n",
    "        count = sum(1 for elem in row['Hard_skills_group_y'] if elem in row['Hard_skills_group_x'])\n",
    "        return count / len(row['Hard_skills_group_x']) if len(row['Hard_skills_group_x']) != 0 else 0\n",
    "    else:\n",
    "        return 0\n",
    "    \n",
    "def count_common_elements2(row):\n",
    "    if isinstance(row['Soft_skills_y'], list) and isinstance(row['Soft_skills_x'], list):\n",
    "        count = sum(1 for elem in row['Soft_skills_y'] if elem in row['Soft_skills_x'])\n",
    "        return count / len(row['Soft_skills_x']) if len(row['Soft_skills_x']) != 0 else 0\n",
    "    else:\n",
    "        return 0"
   ]
  },
  {
   "cell_type": "code",
   "execution_count": 9,
   "metadata": {},
   "outputs": [],
   "source": [
    "# Handling of the NaN\n",
    "# we substituted all the NaN values with 0\n",
    "\n",
    "final_df['Languages_y'] = final_df['Languages_y'].fillna(0)\n",
    "final_df['Languages_x'] = final_df['Languages_x'].fillna(0)\n",
    "\n",
    "final_df['Cards_y'] = final_df['Cards_y'].fillna(0)\n",
    "final_df['Cards_x'] = final_df['Cards_x'].fillna(0)"
   ]
  },
  {
   "cell_type": "code",
   "execution_count": 10,
   "metadata": {},
   "outputs": [],
   "source": [
    "# Creation of new features applying the funcions that we created\n",
    "\n",
    "final_df['language_check'] = final_df.apply(check_languages, axis=1)\n",
    "final_df['cards_check'] = final_df.apply(check_cards, axis=1)\n",
    "final_df['Prof_cat']=final_df['Prof_cat'].apply(process_list)\n",
    "final_df['position_work'] = final_df[['Latitudine_x', 'Longitudine_x']].apply(tuple, axis=1)\n",
    "final_df['living_position'] = final_df[['Latitudine_y', 'Longitudine_y']].apply(tuple, axis=1)\n",
    "final_df['distance'] = final_df.apply(calculate_distance, axis=1)\n",
    "final_df['exp_check'] = final_df.apply(check_experience, axis=1)\n",
    "final_df['int_check'] = final_df.apply(check_intent, axis=1)\n",
    "final_df['percentual_skill'] = final_df.apply(count_common_elements, axis=1)\n",
    "final_df['percentual_skill_2'] = final_df.apply(count_common_elements2, axis=1)\n"
   ]
  },
  {
   "cell_type": "code",
   "execution_count": 11,
   "metadata": {},
   "outputs": [],
   "source": [
    "# Drop of useless features\n",
    "\n",
    "final_df=final_df.drop(['Languages_x','Languages_y','Cards_x','Cards_y','Prof_cat_exp','Prof_cat','Prof_cat_int','Hard_skills_group_x','Latitudine_x','Longitudine_x','Hard_skills_group_y','Latitudine_y','Longitudine_y','Soft_skills_x','Soft_skills_y','position_work','living_position','Work_city','Domicile_City'],axis=1)"
   ]
  },
  {
   "cell_type": "code",
   "execution_count": 12,
   "metadata": {},
   "outputs": [
    {
     "data": {
      "text/html": [
       "<div>\n",
       "<style scoped>\n",
       "    .dataframe tbody tr th:only-of-type {\n",
       "        vertical-align: middle;\n",
       "    }\n",
       "\n",
       "    .dataframe tbody tr th {\n",
       "        vertical-align: top;\n",
       "    }\n",
       "\n",
       "    .dataframe thead th {\n",
       "        text-align: right;\n",
       "    }\n",
       "</style>\n",
       "<table border=\"1\" class=\"dataframe\">\n",
       "  <thead>\n",
       "    <tr style=\"text-align: right;\">\n",
       "      <th></th>\n",
       "      <th>Job_ID</th>\n",
       "      <th>CANDIDATE_ID</th>\n",
       "      <th>Match</th>\n",
       "      <th>language_check</th>\n",
       "      <th>cards_check</th>\n",
       "      <th>distance</th>\n",
       "      <th>exp_check</th>\n",
       "      <th>int_check</th>\n",
       "      <th>percentual_skill</th>\n",
       "      <th>percentual_skill_2</th>\n",
       "    </tr>\n",
       "  </thead>\n",
       "  <tbody>\n",
       "    <tr>\n",
       "      <th>0</th>\n",
       "      <td>0264_22927</td>\n",
       "      <td>1933502</td>\n",
       "      <td>1</td>\n",
       "      <td>1</td>\n",
       "      <td>1</td>\n",
       "      <td>2.132536</td>\n",
       "      <td>1</td>\n",
       "      <td>0</td>\n",
       "      <td>0.0</td>\n",
       "      <td>0.000000</td>\n",
       "    </tr>\n",
       "    <tr>\n",
       "      <th>1</th>\n",
       "      <td>0553_22671</td>\n",
       "      <td>6016478</td>\n",
       "      <td>1</td>\n",
       "      <td>0</td>\n",
       "      <td>1</td>\n",
       "      <td>8.776457</td>\n",
       "      <td>1</td>\n",
       "      <td>1</td>\n",
       "      <td>0.0</td>\n",
       "      <td>0.000000</td>\n",
       "    </tr>\n",
       "    <tr>\n",
       "      <th>2</th>\n",
       "      <td>1354_730</td>\n",
       "      <td>6167354</td>\n",
       "      <td>1</td>\n",
       "      <td>1</td>\n",
       "      <td>1</td>\n",
       "      <td>6.306923</td>\n",
       "      <td>1</td>\n",
       "      <td>1</td>\n",
       "      <td>1.0</td>\n",
       "      <td>0.000000</td>\n",
       "    </tr>\n",
       "    <tr>\n",
       "      <th>3</th>\n",
       "      <td>1526_995</td>\n",
       "      <td>5883294</td>\n",
       "      <td>1</td>\n",
       "      <td>1</td>\n",
       "      <td>1</td>\n",
       "      <td>16.582831</td>\n",
       "      <td>1</td>\n",
       "      <td>0</td>\n",
       "      <td>0.0</td>\n",
       "      <td>0.000000</td>\n",
       "    </tr>\n",
       "    <tr>\n",
       "      <th>4</th>\n",
       "      <td>0130_11963</td>\n",
       "      <td>5848616</td>\n",
       "      <td>1</td>\n",
       "      <td>0</td>\n",
       "      <td>1</td>\n",
       "      <td>6.750027</td>\n",
       "      <td>1</td>\n",
       "      <td>1</td>\n",
       "      <td>0.0</td>\n",
       "      <td>0.000000</td>\n",
       "    </tr>\n",
       "    <tr>\n",
       "      <th>...</th>\n",
       "      <td>...</td>\n",
       "      <td>...</td>\n",
       "      <td>...</td>\n",
       "      <td>...</td>\n",
       "      <td>...</td>\n",
       "      <td>...</td>\n",
       "      <td>...</td>\n",
       "      <td>...</td>\n",
       "      <td>...</td>\n",
       "      <td>...</td>\n",
       "    </tr>\n",
       "    <tr>\n",
       "      <th>12650</th>\n",
       "      <td>0178_21171</td>\n",
       "      <td>5011230</td>\n",
       "      <td>0</td>\n",
       "      <td>1</td>\n",
       "      <td>1</td>\n",
       "      <td>29.672182</td>\n",
       "      <td>1</td>\n",
       "      <td>0</td>\n",
       "      <td>0.0</td>\n",
       "      <td>0.666667</td>\n",
       "    </tr>\n",
       "    <tr>\n",
       "      <th>12651</th>\n",
       "      <td>0070_20302</td>\n",
       "      <td>2214010</td>\n",
       "      <td>0</td>\n",
       "      <td>1</td>\n",
       "      <td>1</td>\n",
       "      <td>25.352334</td>\n",
       "      <td>1</td>\n",
       "      <td>0</td>\n",
       "      <td>1.0</td>\n",
       "      <td>0.200000</td>\n",
       "    </tr>\n",
       "    <tr>\n",
       "      <th>12652</th>\n",
       "      <td>0349_15070</td>\n",
       "      <td>7638353</td>\n",
       "      <td>0</td>\n",
       "      <td>1</td>\n",
       "      <td>1</td>\n",
       "      <td>9.996768</td>\n",
       "      <td>0</td>\n",
       "      <td>0</td>\n",
       "      <td>0.0</td>\n",
       "      <td>0.000000</td>\n",
       "    </tr>\n",
       "    <tr>\n",
       "      <th>12653</th>\n",
       "      <td>0509_16576</td>\n",
       "      <td>3451059</td>\n",
       "      <td>0</td>\n",
       "      <td>1</td>\n",
       "      <td>1</td>\n",
       "      <td>12.045153</td>\n",
       "      <td>0</td>\n",
       "      <td>0</td>\n",
       "      <td>0.0</td>\n",
       "      <td>0.333333</td>\n",
       "    </tr>\n",
       "    <tr>\n",
       "      <th>12654</th>\n",
       "      <td>0327_12409</td>\n",
       "      <td>1002941</td>\n",
       "      <td>0</td>\n",
       "      <td>1</td>\n",
       "      <td>1</td>\n",
       "      <td>42.342254</td>\n",
       "      <td>0</td>\n",
       "      <td>0</td>\n",
       "      <td>0.0</td>\n",
       "      <td>0.000000</td>\n",
       "    </tr>\n",
       "  </tbody>\n",
       "</table>\n",
       "<p>12655 rows × 10 columns</p>\n",
       "</div>"
      ],
      "text/plain": [
       "           Job_ID  CANDIDATE_ID  Match  language_check  cards_check  \\\n",
       "0      0264_22927       1933502      1               1            1   \n",
       "1      0553_22671       6016478      1               0            1   \n",
       "2        1354_730       6167354      1               1            1   \n",
       "3        1526_995       5883294      1               1            1   \n",
       "4      0130_11963       5848616      1               0            1   \n",
       "...           ...           ...    ...             ...          ...   \n",
       "12650  0178_21171       5011230      0               1            1   \n",
       "12651  0070_20302       2214010      0               1            1   \n",
       "12652  0349_15070       7638353      0               1            1   \n",
       "12653  0509_16576       3451059      0               1            1   \n",
       "12654  0327_12409       1002941      0               1            1   \n",
       "\n",
       "        distance  exp_check  int_check  percentual_skill  percentual_skill_2  \n",
       "0       2.132536          1          0               0.0            0.000000  \n",
       "1       8.776457          1          1               0.0            0.000000  \n",
       "2       6.306923          1          1               1.0            0.000000  \n",
       "3      16.582831          1          0               0.0            0.000000  \n",
       "4       6.750027          1          1               0.0            0.000000  \n",
       "...          ...        ...        ...               ...                 ...  \n",
       "12650  29.672182          1          0               0.0            0.666667  \n",
       "12651  25.352334          1          0               1.0            0.200000  \n",
       "12652   9.996768          0          0               0.0            0.000000  \n",
       "12653  12.045153          0          0               0.0            0.333333  \n",
       "12654  42.342254          0          0               0.0            0.000000  \n",
       "\n",
       "[12655 rows x 10 columns]"
      ]
     },
     "execution_count": 12,
     "metadata": {},
     "output_type": "execute_result"
    }
   ],
   "source": [
    "final_df"
   ]
  },
  {
   "cell_type": "markdown",
   "metadata": {},
   "source": [
    "---"
   ]
  },
  {
   "cell_type": "markdown",
   "metadata": {},
   "source": [
    "Now we are going to do exactly the same preprocessing steps for the `Test` Dataset."
   ]
  },
  {
   "cell_type": "code",
   "execution_count": 13,
   "metadata": {},
   "outputs": [],
   "source": [
    "### TEST SET\n",
    "candidates_test['Prof_cat_exp'] = candidates_test['Prof_cat_exp'].apply(converti_in_lista)\n",
    "candidates_test['Prof_cat_int'] = candidates_test['Prof_cat_int'].apply(converti_in_lista)\n",
    "candidates_test['Hard_skills_group'] = candidates_test['Hard_skills_group'].apply(converti_in_lista)\n",
    "candidates_test['Soft_skills'] = candidates_test['Soft_skills'].apply(converti_in_lista)\n",
    "candidates_test['Cards'] = candidates_test['Cards'].apply(converti_in_lista)\n",
    "candidates_test['Education'] = candidates_test['Education'].apply(converti_in_lista)\n",
    "candidates_test['Languages'] = candidates_test['Languages'].apply(converti_in_lista)\n",
    "\n",
    "job_positions_test['Prof_cat'] = job_positions_test['Prof_cat'].apply(converti_in_lista)\n",
    "job_positions_test['Hard_skills_group'] = job_positions_test['Hard_skills_group'].apply(converti_in_lista)\n",
    "job_positions_test['Soft_skills'] = job_positions_test['Soft_skills'].apply(converti_in_lista)\n",
    "job_positions_test['Education'] = job_positions_test['Education'].apply(converti_in_lista)\n",
    "job_positions_test['Languages'] = job_positions_test['Languages'].apply(converti_in_lista)\n",
    "job_positions_test['Cards'] = job_positions_test['Cards'].apply(converti_in_lista)"
   ]
  },
  {
   "cell_type": "code",
   "execution_count": 14,
   "metadata": {},
   "outputs": [],
   "source": [
    "candidates_test['Prof_cat_int'] = candidates_test['Prof_cat_int'].apply(process_list)\n",
    "candidates_test['Prof_cat_exp'] = candidates_test['Prof_cat_exp'].apply(process_list)"
   ]
  },
  {
   "cell_type": "code",
   "execution_count": 15,
   "metadata": {},
   "outputs": [
    {
     "name": "stderr",
     "output_type": "stream",
     "text": [
      "/var/folders/kb/y2wpyfkn7rj91tcfycy6yhlm0000gn/T/ipykernel_8618/4264919059.py:3: SettingWithCopyWarning: \n",
      "A value is trying to be set on a copy of a slice from a DataFrame.\n",
      "Try using .loc[row_indexer,col_indexer] = value instead\n",
      "\n",
      "See the caveats in the documentation: https://pandas.pydata.org/pandas-docs/stable/user_guide/indexing.html#returning-a-view-versus-a-copy\n",
      "  selected_rows[\"Latitudine\"] = selected_rows[\"Domicile_City\"].apply(lambda x: geolocator.geocode(x).latitude)\n",
      "/var/folders/kb/y2wpyfkn7rj91tcfycy6yhlm0000gn/T/ipykernel_8618/4264919059.py:4: SettingWithCopyWarning: \n",
      "A value is trying to be set on a copy of a slice from a DataFrame.\n",
      "Try using .loc[row_indexer,col_indexer] = value instead\n",
      "\n",
      "See the caveats in the documentation: https://pandas.pydata.org/pandas-docs/stable/user_guide/indexing.html#returning-a-view-versus-a-copy\n",
      "  selected_rows[\"Longitudine\"] = selected_rows[\"Domicile_City\"].apply(lambda x: geolocator.geocode(x).longitude)\n"
     ]
    }
   ],
   "source": [
    "selected_rows = candidates_test[candidates_test['Latitudine'].isna() | candidates_test['Longitudine'].isna()]\n",
    "# apply the geocode function\n",
    "selected_rows[\"Latitudine\"] = selected_rows[\"Domicile_City\"].apply(lambda x: geolocator.geocode(x).latitude)\n",
    "selected_rows[\"Longitudine\"] = selected_rows[\"Domicile_City\"].apply(lambda x: geolocator.geocode(x).longitude)\n",
    "# update the cabdidates train dataset\n",
    "candidates_test.update(selected_rows)"
   ]
  },
  {
   "cell_type": "code",
   "execution_count": 16,
   "metadata": {},
   "outputs": [],
   "source": [
    "temporary_df = matches_test.merge(job_positions_test, on='Job_ID', how='left')\n",
    "final_df_test=temporary_df.merge(candidates_test, on='CANDIDATE_ID',how='left')\n",
    "final_df_test=final_df_test.drop(['Education_x','Education_y'],axis=1)"
   ]
  },
  {
   "cell_type": "code",
   "execution_count": 17,
   "metadata": {},
   "outputs": [],
   "source": [
    "final_df_test['Languages_y'] = final_df_test['Languages_y'].fillna(0)\n",
    "final_df_test['Languages_x'] = final_df_test['Languages_x'].fillna(0)\n",
    "\n",
    "final_df_test['Cards_y'] = final_df_test['Cards_y'].fillna(0)\n",
    "final_df_test['Cards_x'] = final_df_test['Cards_x'].fillna(0)"
   ]
  },
  {
   "cell_type": "code",
   "execution_count": 18,
   "metadata": {},
   "outputs": [],
   "source": [
    "\n",
    "final_df_test['language_check'] = final_df_test.apply(check_languages, axis=1)\n",
    "final_df_test['cards_check'] = final_df_test.apply(check_cards, axis=1)\n",
    "final_df_test['Prof_cat']=final_df_test['Prof_cat'].apply(process_list)\n",
    "final_df_test['position_work'] = final_df_test[['Latitudine_x', 'Longitudine_x']].apply(tuple, axis=1)\n",
    "final_df_test['living_position'] = final_df_test[['Latitudine_y', 'Longitudine_y']].apply(tuple, axis=1)\n",
    "final_df_test['distance'] = final_df_test.apply(calculate_distance, axis=1)\n",
    "final_df_test['exp_check'] = final_df_test.apply(check_experience, axis=1)\n",
    "final_df_test['int_check'] = final_df_test.apply(check_intent, axis=1)\n",
    "final_df_test['percentual_skill'] = final_df_test.apply(count_common_elements, axis=1)\n",
    "final_df_test['percentual_skill_2'] = final_df_test.apply(count_common_elements2, axis=1)\n"
   ]
  },
  {
   "cell_type": "code",
   "execution_count": 19,
   "metadata": {},
   "outputs": [],
   "source": [
    "final_df_test=final_df_test.drop(['Languages_x','Languages_y','Cards_x','Cards_y','Prof_cat_exp','Prof_cat','Prof_cat_int','Hard_skills_group_x','Latitudine_x','Longitudine_x','Hard_skills_group_y','Latitudine_y','Longitudine_y','Soft_skills_x','Soft_skills_y','position_work','living_position','Work_city','Domicile_City'],axis=1)"
   ]
  },
  {
   "cell_type": "code",
   "execution_count": 20,
   "metadata": {},
   "outputs": [],
   "source": [
    "# We remove match because we want to obtain it from the prediction\n",
    "final_df_test=final_df_test.drop(['Match'],axis=1)"
   ]
  },
  {
   "cell_type": "code",
   "execution_count": 21,
   "metadata": {},
   "outputs": [
    {
     "data": {
      "text/html": [
       "<div>\n",
       "<style scoped>\n",
       "    .dataframe tbody tr th:only-of-type {\n",
       "        vertical-align: middle;\n",
       "    }\n",
       "\n",
       "    .dataframe tbody tr th {\n",
       "        vertical-align: top;\n",
       "    }\n",
       "\n",
       "    .dataframe thead th {\n",
       "        text-align: right;\n",
       "    }\n",
       "</style>\n",
       "<table border=\"1\" class=\"dataframe\">\n",
       "  <thead>\n",
       "    <tr style=\"text-align: right;\">\n",
       "      <th></th>\n",
       "      <th>Job_ID</th>\n",
       "      <th>CANDIDATE_ID</th>\n",
       "      <th>language_check</th>\n",
       "      <th>cards_check</th>\n",
       "      <th>distance</th>\n",
       "      <th>exp_check</th>\n",
       "      <th>int_check</th>\n",
       "      <th>percentual_skill</th>\n",
       "      <th>percentual_skill_2</th>\n",
       "    </tr>\n",
       "  </thead>\n",
       "  <tbody>\n",
       "    <tr>\n",
       "      <th>0</th>\n",
       "      <td>1014_514</td>\n",
       "      <td>23262979</td>\n",
       "      <td>1</td>\n",
       "      <td>1</td>\n",
       "      <td>36.608922</td>\n",
       "      <td>1</td>\n",
       "      <td>1</td>\n",
       "      <td>1.000000</td>\n",
       "      <td>0.0</td>\n",
       "    </tr>\n",
       "    <tr>\n",
       "      <th>1</th>\n",
       "      <td>1014_514</td>\n",
       "      <td>1482016</td>\n",
       "      <td>1</td>\n",
       "      <td>1</td>\n",
       "      <td>36.608922</td>\n",
       "      <td>1</td>\n",
       "      <td>0</td>\n",
       "      <td>0.000000</td>\n",
       "      <td>0.0</td>\n",
       "    </tr>\n",
       "    <tr>\n",
       "      <th>2</th>\n",
       "      <td>1014_514</td>\n",
       "      <td>83352824</td>\n",
       "      <td>0</td>\n",
       "      <td>1</td>\n",
       "      <td>51.080598</td>\n",
       "      <td>1</td>\n",
       "      <td>1</td>\n",
       "      <td>1.000000</td>\n",
       "      <td>0.0</td>\n",
       "    </tr>\n",
       "    <tr>\n",
       "      <th>3</th>\n",
       "      <td>1014_514</td>\n",
       "      <td>54602123</td>\n",
       "      <td>1</td>\n",
       "      <td>1</td>\n",
       "      <td>50.563784</td>\n",
       "      <td>1</td>\n",
       "      <td>1</td>\n",
       "      <td>1.000000</td>\n",
       "      <td>0.0</td>\n",
       "    </tr>\n",
       "    <tr>\n",
       "      <th>4</th>\n",
       "      <td>1014_514</td>\n",
       "      <td>92641837</td>\n",
       "      <td>1</td>\n",
       "      <td>1</td>\n",
       "      <td>58.851277</td>\n",
       "      <td>1</td>\n",
       "      <td>0</td>\n",
       "      <td>0.000000</td>\n",
       "      <td>0.0</td>\n",
       "    </tr>\n",
       "    <tr>\n",
       "      <th>...</th>\n",
       "      <td>...</td>\n",
       "      <td>...</td>\n",
       "      <td>...</td>\n",
       "      <td>...</td>\n",
       "      <td>...</td>\n",
       "      <td>...</td>\n",
       "      <td>...</td>\n",
       "      <td>...</td>\n",
       "      <td>...</td>\n",
       "    </tr>\n",
       "    <tr>\n",
       "      <th>3995</th>\n",
       "      <td>9996_273</td>\n",
       "      <td>82724002</td>\n",
       "      <td>1</td>\n",
       "      <td>1</td>\n",
       "      <td>27.073742</td>\n",
       "      <td>0</td>\n",
       "      <td>0</td>\n",
       "      <td>0.666667</td>\n",
       "      <td>0.0</td>\n",
       "    </tr>\n",
       "    <tr>\n",
       "      <th>3996</th>\n",
       "      <td>9996_273</td>\n",
       "      <td>38957146</td>\n",
       "      <td>1</td>\n",
       "      <td>0</td>\n",
       "      <td>39.110803</td>\n",
       "      <td>0</td>\n",
       "      <td>1</td>\n",
       "      <td>0.000000</td>\n",
       "      <td>0.0</td>\n",
       "    </tr>\n",
       "    <tr>\n",
       "      <th>3997</th>\n",
       "      <td>9996_273</td>\n",
       "      <td>5137608</td>\n",
       "      <td>1</td>\n",
       "      <td>1</td>\n",
       "      <td>8.024316</td>\n",
       "      <td>0</td>\n",
       "      <td>0</td>\n",
       "      <td>0.000000</td>\n",
       "      <td>0.0</td>\n",
       "    </tr>\n",
       "    <tr>\n",
       "      <th>3998</th>\n",
       "      <td>9996_273</td>\n",
       "      <td>39393438</td>\n",
       "      <td>1</td>\n",
       "      <td>1</td>\n",
       "      <td>19.882788</td>\n",
       "      <td>0</td>\n",
       "      <td>0</td>\n",
       "      <td>0.000000</td>\n",
       "      <td>0.0</td>\n",
       "    </tr>\n",
       "    <tr>\n",
       "      <th>3999</th>\n",
       "      <td>9996_273</td>\n",
       "      <td>45683368</td>\n",
       "      <td>1</td>\n",
       "      <td>1</td>\n",
       "      <td>2.262701</td>\n",
       "      <td>1</td>\n",
       "      <td>1</td>\n",
       "      <td>0.000000</td>\n",
       "      <td>0.0</td>\n",
       "    </tr>\n",
       "  </tbody>\n",
       "</table>\n",
       "<p>4000 rows × 9 columns</p>\n",
       "</div>"
      ],
      "text/plain": [
       "        Job_ID  CANDIDATE_ID  language_check  cards_check   distance  \\\n",
       "0     1014_514      23262979               1            1  36.608922   \n",
       "1     1014_514       1482016               1            1  36.608922   \n",
       "2     1014_514      83352824               0            1  51.080598   \n",
       "3     1014_514      54602123               1            1  50.563784   \n",
       "4     1014_514      92641837               1            1  58.851277   \n",
       "...        ...           ...             ...          ...        ...   \n",
       "3995  9996_273      82724002               1            1  27.073742   \n",
       "3996  9996_273      38957146               1            0  39.110803   \n",
       "3997  9996_273       5137608               1            1   8.024316   \n",
       "3998  9996_273      39393438               1            1  19.882788   \n",
       "3999  9996_273      45683368               1            1   2.262701   \n",
       "\n",
       "      exp_check  int_check  percentual_skill  percentual_skill_2  \n",
       "0             1          1          1.000000                 0.0  \n",
       "1             1          0          0.000000                 0.0  \n",
       "2             1          1          1.000000                 0.0  \n",
       "3             1          1          1.000000                 0.0  \n",
       "4             1          0          0.000000                 0.0  \n",
       "...         ...        ...               ...                 ...  \n",
       "3995          0          0          0.666667                 0.0  \n",
       "3996          0          1          0.000000                 0.0  \n",
       "3997          0          0          0.000000                 0.0  \n",
       "3998          0          0          0.000000                 0.0  \n",
       "3999          1          1          0.000000                 0.0  \n",
       "\n",
       "[4000 rows x 9 columns]"
      ]
     },
     "execution_count": 21,
     "metadata": {},
     "output_type": "execute_result"
    }
   ],
   "source": [
    "final_df_test"
   ]
  },
  {
   "cell_type": "markdown",
   "metadata": {},
   "source": [
    "----\n",
    "\n",
    "## <h2 style=\"text-align: center;\">Model creation</h2>\n",
    "\n",
    "----"
   ]
  },
  {
   "cell_type": "markdown",
   "metadata": {},
   "source": [
    "We chose to implement the **Ranking model**`LambdaMART`."
   ]
  },
  {
   "cell_type": "code",
   "execution_count": 50,
   "metadata": {},
   "outputs": [],
   "source": [
    "# Initialization of the model for the train \n",
    "X = final_df[[ 'language_check', 'cards_check', 'distance', 'exp_check', 'int_check', 'percentual_skill', 'percentual_skill_2','Job_ID']]\n",
    "y = final_df['Match']  \n"
   ]
  },
  {
   "cell_type": "code",
   "execution_count": 51,
   "metadata": {},
   "outputs": [],
   "source": [
    "# splitting for cross validation\n",
    "train_ids, test_ids = train_test_split(final_df['Job_ID'].unique(), test_size=0.2, random_state=42)\n",
    "X_train = X[X['Job_ID'].isin(train_ids)].copy()\n",
    "X_test = X[X['Job_ID'].isin(test_ids)].copy()\n",
    "y_train = y[X['Job_ID'].isin(train_ids)].copy()\n",
    "y_test = y[X['Job_ID'].isin(test_ids)].copy()"
   ]
  },
  {
   "cell_type": "code",
   "execution_count": 52,
   "metadata": {},
   "outputs": [],
   "source": [
    "# number of candidate for each job\n",
    "job_groups_train = X_train.groupby('Job_ID').size().to_numpy()\n",
    "job_groups_test = X_test.groupby('Job_ID').size().to_numpy()"
   ]
  },
  {
   "cell_type": "code",
   "execution_count": 53,
   "metadata": {},
   "outputs": [],
   "source": [
    "X_train.drop(columns=['Job_ID'], inplace=True)\n",
    "X_test.drop(columns=['Job_ID'], inplace=True)"
   ]
  },
  {
   "cell_type": "code",
   "execution_count": 54,
   "metadata": {},
   "outputs": [],
   "source": [
    "lgb_train = lgb.Dataset(X_train, y_train, group=job_groups_train)\n",
    "lgb_test = lgb.Dataset(X_test, y_test, group=job_groups_test, reference=lgb_train)"
   ]
  },
  {
   "cell_type": "markdown",
   "metadata": {},
   "source": [
    "After a grid search from 0.001 to 0.3 we chose these parameters "
   ]
  },
  {
   "cell_type": "code",
   "execution_count": 55,
   "metadata": {},
   "outputs": [],
   "source": [
    "#parameters for the model\n",
    "params = {\n",
    "    'objective': 'lambdarank',\n",
    "    'metric': 'ndcg',\n",
    "    'boosting_type': 'gbdt',\n",
    "    'num_leaves': 31,\n",
    "    'learning_rate': 0.03,\n",
    "    'feature_fraction': 0.9,\n",
    "    'early_stopping_rounds': 10,  \n",
    "}"
   ]
  },
  {
   "cell_type": "code",
   "execution_count": 56,
   "metadata": {},
   "outputs": [
    {
     "name": "stdout",
     "output_type": "stream",
     "text": [
      "[LightGBM] [Info] Auto-choosing row-wise multi-threading, the overhead of testing was 0.000968 seconds.\n",
      "You can set `force_row_wise=true` to remove the overhead.\n",
      "And if memory is not enough, you can set `force_col_wise=true`.\n",
      "[LightGBM] [Info] Total Bins 313\n",
      "[LightGBM] [Info] Number of data points in the train set: 10120, number of used features: 7\n",
      "Training until validation scores don't improve for 10 rounds\n",
      "Early stopping, best iteration is:\n",
      "[3]\ttrain's ndcg@1: 1\ttrain's ndcg@2: 0.999235\ttrain's ndcg@3: 0.998478\ttrain's ndcg@4: 0.99844\ttrain's ndcg@5: 0.999574\tvalid's ndcg@1: 0.990138\tvalid's ndcg@2: 0.990901\tvalid's ndcg@3: 0.991185\tvalid's ndcg@4: 0.992169\tvalid's ndcg@5: 0.996399\n"
     ]
    }
   ],
   "source": [
    "# Creation of the Model and prediction\n",
    "model = lgb.train(params, lgb_train, valid_sets=[lgb_train, lgb_test], valid_names=['train', 'valid'], num_boost_round=1000)"
   ]
  },
  {
   "cell_type": "code",
   "execution_count": 57,
   "metadata": {},
   "outputs": [],
   "source": [
    "# Predictions on the train test\n",
    "y_pred = model.predict(X_test)"
   ]
  },
  {
   "cell_type": "code",
   "execution_count": 58,
   "metadata": {},
   "outputs": [],
   "source": [
    "X_test['y_pred'] = y_pred\n",
    "X_test['Job_ID'] = final_df.loc[X_test.index, 'Job_ID']"
   ]
  },
  {
   "cell_type": "code",
   "execution_count": 59,
   "metadata": {},
   "outputs": [
    {
     "name": "stdout",
     "output_type": "stream",
     "text": [
      "Accuracy: 0.8903353057199211\n"
     ]
    }
   ],
   "source": [
    "best_candidates = X_test.loc[X_test.groupby('Job_ID')['y_pred'].idxmax()]\n",
    "\n",
    "X_test['pred'] = 0\n",
    "X_test.loc[best_candidates.index, 'pred'] = 1\n",
    "\n",
    "# Evaluation of the accuracy on the Train\n",
    "accuracy = accuracy_score(y_test.loc[X_test.index], X_test['pred'])\n",
    "print('Accuracy:', accuracy)"
   ]
  },
  {
   "cell_type": "code",
   "execution_count": 60,
   "metadata": {},
   "outputs": [
    {
     "data": {
      "image/png": "[encoded data removed]",
      "text/plain": [
       "<Figure size 1500x1000 with 1 Axes>"
      ]
     },
     "metadata": {},
     "output_type": "display_data"
    }
   ],
   "source": [
    "# Extract feature importance\n",
    "feature_importance = model.feature_importance(importance_type='split')\n",
    "feature_names = model.feature_name()\n",
    "\n",
    "# Normalize feature importance\n",
    "max_importance = np.max(feature_importance)\n",
    "normalized_importance = feature_importance / max_importance\n",
    "\n",
    "# Create a DataFrame to hold the feature importance\n",
    "feature_importance_df = pd.DataFrame({\n",
    "    'Feature': feature_names,\n",
    "    'Importance': normalized_importance\n",
    "})\n",
    "\n",
    "# Sort features by importance\n",
    "feature_importance_df = feature_importance_df.sort_values(by='Importance', ascending=False)\n",
    "\n",
    "# Plot using seaborn with customized style\n",
    "plt.figure(figsize=(15, 10))  \n",
    "sns.set(style='whitegrid')  \n",
    "sns.barplot(x='Importance', y='Feature', data=feature_importance_df, palette='viridis')  #\n",
    "plt.title('Feature Importance (Normalized)', fontsize=18, fontweight='bold')  \n",
    "plt.xlabel('Importance (Normalized)', fontsize=14)\n",
    "plt.ylabel('Features', fontsize=14)\n",
    "plt.xticks(fontsize=12)\n",
    "plt.yticks(fontsize=12)\n",
    "sns.despine(left=True)  # Remove left spine\n",
    "plt.tight_layout()  \n",
    "plt.show()"
   ]
  },
  {
   "cell_type": "code",
   "execution_count": 61,
   "metadata": {},
   "outputs": [
    {
     "data": {
      "image/png": "[encoded data removed]",
      "text/plain": [
       "<Figure size 1500x1000 with 1 Axes>"
      ]
     },
     "metadata": {},
     "output_type": "display_data"
    }
   ],
   "source": [
    "# Calculus of the Confusion matrix\n",
    "cm = confusion_matrix(y_test.loc[X_test.index], X_test['pred'], normalize='all')\n",
    "\n",
    "# Plot della confusion matrix\n",
    "plt.figure(figsize=(15, 10)) \n",
    "sns.heatmap(cm, annot=True, cmap='Blues', cbar=False)\n",
    "plt.title('Confusion Matrix', fontsize=18, fontweight='bold')\n",
    "plt.xlabel('Predicted Labels')\n",
    "plt.ylabel('True Labels')\n",
    "plt.show()"
   ]
  },
  {
   "cell_type": "markdown",
   "metadata": {},
   "source": [
    "Given these results in the **Feature Importance Plot** we chose to drop the `language_check` feature and retrain the model since it's contribution in the model is neglectable. "
   ]
  },
  {
   "cell_type": "code",
   "execution_count": 62,
   "metadata": {},
   "outputs": [
    {
     "name": "stdout",
     "output_type": "stream",
     "text": [
      "[LightGBM] [Info] Auto-choosing row-wise multi-threading, the overhead of testing was 0.001525 seconds.\n",
      "You can set `force_row_wise=true` to remove the overhead.\n",
      "And if memory is not enough, you can set `force_col_wise=true`.\n",
      "[LightGBM] [Info] Total Bins 311\n",
      "[LightGBM] [Info] Number of data points in the train set: 10120, number of used features: 6\n",
      "Training until validation scores don't improve for 10 rounds\n",
      "Early stopping, best iteration is:\n",
      "[3]\ttrain's ndcg@1: 0.999506\ttrain's ndcg@2: 0.997906\ttrain's ndcg@3: 0.997151\ttrain's ndcg@4: 0.996719\ttrain's ndcg@5: 0.998987\tvalid's ndcg@1: 0.996055\tvalid's ndcg@2: 0.993003\tvalid's ndcg@3: 0.992331\tvalid's ndcg@4: 0.993921\tvalid's ndcg@5: 0.997495\n"
     ]
    }
   ],
   "source": [
    "# Initialization of the new model for the train \n",
    "X = final_df[[ 'cards_check', 'distance', 'exp_check', 'int_check', 'percentual_skill', 'percentual_skill_2','Job_ID']]\n",
    "y = final_df['Match']  \n",
    "\n",
    "# splitting for cross validation\n",
    "train_ids, test_ids = train_test_split(final_df['Job_ID'].unique(), test_size=0.2, random_state=42)\n",
    "X_train = X[X['Job_ID'].isin(train_ids)].copy()\n",
    "X_test = X[X['Job_ID'].isin(test_ids)].copy()\n",
    "y_train = y[X['Job_ID'].isin(train_ids)].copy()\n",
    "y_test = y[X['Job_ID'].isin(test_ids)].copy()\n",
    "\n",
    "# number of candidate for each job\n",
    "job_groups_train = X_train.groupby('Job_ID').size().to_numpy()\n",
    "job_groups_test = X_test.groupby('Job_ID').size().to_numpy()\n",
    "\n",
    "X_train.drop(columns=['Job_ID'], inplace=True)\n",
    "X_test.drop(columns=['Job_ID'], inplace=True)\n",
    "\n",
    "lgb_train = lgb.Dataset(X_train, y_train, group=job_groups_train)\n",
    "lgb_test = lgb.Dataset(X_test, y_test, group=job_groups_test, reference=lgb_train)\n",
    "\n",
    "# Creation of the Model and prediction\n",
    "model = lgb.train(params, lgb_train, valid_sets=[lgb_train, lgb_test], valid_names=['train', 'valid'], num_boost_round=1000)"
   ]
  },
  {
   "cell_type": "code",
   "execution_count": 63,
   "metadata": {},
   "outputs": [],
   "source": [
    "# Predictions on the new rain test\n",
    "y_pred = model.predict(X_test)"
   ]
  },
  {
   "cell_type": "code",
   "execution_count": 64,
   "metadata": {},
   "outputs": [],
   "source": [
    "X_test['y_pred'] = y_pred\n",
    "X_test['Job_ID'] = final_df.loc[X_test.index, 'Job_ID']"
   ]
  },
  {
   "cell_type": "code",
   "execution_count": 65,
   "metadata": {},
   "outputs": [
    {
     "name": "stdout",
     "output_type": "stream",
     "text": [
      "New Accuracy: 0.9013806706114399\n"
     ]
    }
   ],
   "source": [
    "best_candidates = X_test.loc[X_test.groupby('Job_ID')['y_pred'].idxmax()]\n",
    "\n",
    "X_test['pred'] = 0\n",
    "X_test.loc[best_candidates.index, 'pred'] = 1\n",
    "\n",
    "# Evaluation of the accuracy on the Train\n",
    "accuracy = accuracy_score(y_test.loc[X_test.index], X_test['pred'])\n",
    "print('New Accuracy:', accuracy)"
   ]
  },
  {
   "cell_type": "code",
   "execution_count": 66,
   "metadata": {},
   "outputs": [
    {
     "data": {
      "image/png": "[encoded data removed]",
      "text/plain": [
       "<Figure size 1500x1000 with 1 Axes>"
      ]
     },
     "metadata": {},
     "output_type": "display_data"
    }
   ],
   "source": [
    "# Calculus of the New Confusion matrix\n",
    "cm = confusion_matrix(y_test.loc[X_test.index], X_test['pred'], normalize='all')\n",
    "\n",
    "# Plot della confusion matrix\n",
    "plt.figure(figsize=(15, 10)) \n",
    "sns.heatmap(cm, annot=True, cmap='Blues', cbar=False)\n",
    "plt.title('Confusion Matrix', fontsize=18, fontweight='bold')\n",
    "plt.xlabel('Predicted Labels')\n",
    "plt.ylabel('True Labels')\n",
    "plt.show()"
   ]
  },
  {
   "cell_type": "markdown",
   "metadata": {},
   "source": [
    "---"
   ]
  },
  {
   "cell_type": "markdown",
   "metadata": {},
   "source": [
    "Now we are going to apply this model on the Test set. Also in this case we chose to drop the `language_check` feature."
   ]
  },
  {
   "cell_type": "code",
   "execution_count": 67,
   "metadata": {},
   "outputs": [
    {
     "name": "stderr",
     "output_type": "stream",
     "text": [
      "/var/folders/kb/y2wpyfkn7rj91tcfycy6yhlm0000gn/T/ipykernel_8618/1820806873.py:2: SettingWithCopyWarning: \n",
      "A value is trying to be set on a copy of a slice from a DataFrame.\n",
      "Try using .loc[row_indexer,col_indexer] = value instead\n",
      "\n",
      "See the caveats in the documentation: https://pandas.pydata.org/pandas-docs/stable/user_guide/indexing.html#returning-a-view-versus-a-copy\n",
      "  X_test['Job_ID'] = final_df_test['Job_ID']\n"
     ]
    }
   ],
   "source": [
    "X_test = final_df_test[['cards_check', 'distance', 'exp_check', 'int_check', 'percentual_skill', 'percentual_skill_2']]\n",
    "X_test['Job_ID'] = final_df_test['Job_ID']\n",
    "job_groups_test = X_test.groupby('Job_ID').size().to_numpy()\n",
    "X_test = X_test.drop(['Job_ID'], axis=1)"
   ]
  },
  {
   "cell_type": "code",
   "execution_count": 68,
   "metadata": {},
   "outputs": [],
   "source": [
    "y_pred = model.predict(X_test)"
   ]
  },
  {
   "cell_type": "code",
   "execution_count": 69,
   "metadata": {},
   "outputs": [],
   "source": [
    "X_test['y_pred'] = y_pred"
   ]
  },
  {
   "cell_type": "code",
   "execution_count": 70,
   "metadata": {},
   "outputs": [],
   "source": [
    "X_test['Job_ID'] = final_df_test['Job_ID']\n",
    "best_candidates = X_test.loc[X_test.groupby('Job_ID')['y_pred'].idxmax()]"
   ]
  },
  {
   "cell_type": "code",
   "execution_count": 71,
   "metadata": {},
   "outputs": [],
   "source": [
    "# We took the order for the output from the file\n",
    "\n",
    "with open('/Users/francescolazzari/Documents/Università - Data Science/SL/Homework/SUS/Data/job_id_list_test.txt', 'r') as f:\n",
    "    job_id_list_test = [(line.strip()) for line in f]\n",
    "    \n",
    "    \n",
    "ordered = pd.DataFrame(job_id_list_test)\n",
    "aux = final_df_test[\"CANDIDATE_ID\"]\n",
    "X_test[\"CANDIDATE_ID\"] = aux"
   ]
  },
  {
   "cell_type": "code",
   "execution_count": 72,
   "metadata": {},
   "outputs": [],
   "source": [
    "# picking only the candidate with the best score\n",
    "\n",
    "idx = X_test.groupby('Job_ID')['y_pred'].idxmax()"
   ]
  },
  {
   "cell_type": "code",
   "execution_count": 73,
   "metadata": {},
   "outputs": [],
   "source": [
    "# reordering\n",
    "\n",
    "best_rows=X_test.loc[idx]\n",
    "best_rows_copy = best_rows.copy()\n",
    "df_sorted = ordered.merge(best_rows_copy, left_on = 0, right_on = \"Job_ID\", how = \"left\" )\n",
    "submit=df_sorted['CANDIDATE_ID']"
   ]
  },
  {
   "cell_type": "code",
   "execution_count": 74,
   "metadata": {},
   "outputs": [
    {
     "name": "stdout",
     "output_type": "stream",
     "text": [
      "File sub14.txt created with success.\n"
     ]
    }
   ],
   "source": [
    "# creation of the file for the submission\n",
    "with open('sub14.txt', 'w') as f:\n",
    "    for candidate_id in submit:\n",
    "        f.write(f\"{candidate_id}\\n\")\n",
    "\n",
    "print(\"File sub14.txt created with success.\")"
   ]
  }
 ],
 "metadata": {
  "kernelspec": {
   "display_name": "base",
   "language": "python",
   "name": "python3"
  },
  "language_info": {
   "codemirror_mode": {
    "name": "ipython",
    "version": 3
   },
   "file_extension": ".py",
   "mimetype": "text/x-python",
   "name": "python",
   "nbconvert_exporter": "python",
   "pygments_lexer": "ipython3",
   "version": "3.9.18"
  }
 },
 "nbformat": 4,
 "nbformat_minor": 2
}
